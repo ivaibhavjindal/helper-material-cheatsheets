{
  "nbformat": 4,
  "nbformat_minor": 0,
  "metadata": {
    "kernelspec": {
      "display_name": "Python 3",
      "language": "python",
      "name": "python3"
    },
    "language_info": {
      "codemirror_mode": {
        "name": "ipython",
        "version": 3
      },
      "file_extension": ".py",
      "mimetype": "text/x-python",
      "name": "python",
      "nbconvert_exporter": "python",
      "pygments_lexer": "ipython3",
      "version": "3.6.8"
    },
    "colab": {
      "name": "Save, Load and Export Keras Models.ipynb",
      "provenance": [],
      "include_colab_link": true
    }
  },
  "cells": [
    {
      "cell_type": "markdown",
      "metadata": {
        "id": "view-in-github",
        "colab_type": "text"
      },
      "source": [
        "<a href=\"https://colab.research.google.com/github/ivaibhavjindal/helper-material-cheatsheets/blob/vaibhav/Notebooks/Save_Load_and_Export_Keras_Models.ipynb\" target=\"_parent\"><img src=\"https://colab.research.google.com/assets/colab-badge.svg\" alt=\"Open In Colab\"/></a>"
      ]
    },
    {
      "cell_type": "markdown",
      "metadata": {
        "id": "l38JgcfQPJiX",
        "colab_type": "text"
      },
      "source": [
        "# Save, Load and Export Models in Keras"
      ]
    },
    {
      "cell_type": "markdown",
      "metadata": {
        "id": "w23T4arUPJiZ",
        "colab_type": "text"
      },
      "source": [
        "## Task 1: Import Libraries"
      ]
    },
    {
      "cell_type": "code",
      "metadata": {
        "id": "oiIw1de1PJia",
        "colab_type": "code",
        "colab": {
          "base_uri": "https://localhost:8080/",
          "height": 50
        },
        "outputId": "63d41517-26f7-4061-c7db-95dbadafbc95"
      },
      "source": [
        "import tensorflow as tf\n",
        "import numpy as np\n",
        "import os\n",
        "\n",
        "print('This notebook works with TensorFlow version:', tf.__version__)\n",
        "\n",
        "folders = ['tmp', 'models', 'model_name', 'weights']\n",
        "for folder in folders:\n",
        "    if not os.path.isdir(folder):\n",
        "        os.mkdir(folder)\n",
        "\n",
        "print(os.listdir('.'))"
      ],
      "execution_count": 1,
      "outputs": [
        {
          "output_type": "stream",
          "text": [
            "This notebook works with TensorFlow version: 2.2.0\n",
            "['.config', 'weights', 'model_name', 'tmp', 'models', 'sample_data']\n"
          ],
          "name": "stdout"
        }
      ]
    },
    {
      "cell_type": "markdown",
      "metadata": {
        "id": "zrEGhu16PJih",
        "colab_type": "text"
      },
      "source": [
        "## Task 2: Create Model"
      ]
    },
    {
      "cell_type": "code",
      "metadata": {
        "id": "te_botyhPJii",
        "colab_type": "code",
        "colab": {
          "base_uri": "https://localhost:8080/",
          "height": 252
        },
        "outputId": "8c3f89cb-fa48-4dda-f9cb-b42b8c7d7112"
      },
      "source": [
        "def create_model():\n",
        "    model = tf.keras.models.Sequential([\n",
        "        tf.keras.layers.Dense(128, activation='relu', input_shape=(784,)),\n",
        "        tf.keras.layers.Dense(128, activation='relu'),\n",
        "        tf.keras.layers.Dense(10, activation='softmax')\n",
        "    ])\n",
        "    model.compile(loss='categorical_crossentropy', optimizer='adam', metrics=['acc'])\n",
        "    return model\n",
        "\n",
        "model = create_model()\n",
        "model.summary()"
      ],
      "execution_count": 2,
      "outputs": [
        {
          "output_type": "stream",
          "text": [
            "Model: \"sequential\"\n",
            "_________________________________________________________________\n",
            "Layer (type)                 Output Shape              Param #   \n",
            "=================================================================\n",
            "dense (Dense)                (None, 128)               100480    \n",
            "_________________________________________________________________\n",
            "dense_1 (Dense)              (None, 128)               16512     \n",
            "_________________________________________________________________\n",
            "dense_2 (Dense)              (None, 10)                1290      \n",
            "=================================================================\n",
            "Total params: 118,282\n",
            "Trainable params: 118,282\n",
            "Non-trainable params: 0\n",
            "_________________________________________________________________\n"
          ],
          "name": "stdout"
        }
      ]
    },
    {
      "cell_type": "markdown",
      "metadata": {
        "id": "SljNYQFiPJim",
        "colab_type": "text"
      },
      "source": [
        "## Task 3: Data Preprocessing"
      ]
    },
    {
      "cell_type": "code",
      "metadata": {
        "id": "fquKI3evPJim",
        "colab_type": "code",
        "colab": {
          "base_uri": "https://localhost:8080/",
          "height": 171
        },
        "outputId": "ade0d642-6b19-4d9b-e691-7fb13c4e31d6"
      },
      "source": [
        "(x_train, y_train), (x_test, y_test) = tf.keras.datasets.fashion_mnist.load_data()\n",
        "\n",
        "x_train = np.reshape(x_train, (x_train.shape[0], 784))/255.\n",
        "x_test = np.reshape(x_test, (x_test.shape[0], 784))/255.\n",
        "\n",
        "y_train = tf.keras.utils.to_categorical(y_train)\n",
        "y_test = tf.keras.utils.to_categorical(y_test)"
      ],
      "execution_count": 3,
      "outputs": [
        {
          "output_type": "stream",
          "text": [
            "Downloading data from https://storage.googleapis.com/tensorflow/tf-keras-datasets/train-labels-idx1-ubyte.gz\n",
            "32768/29515 [=================================] - 0s 0us/step\n",
            "Downloading data from https://storage.googleapis.com/tensorflow/tf-keras-datasets/train-images-idx3-ubyte.gz\n",
            "26427392/26421880 [==============================] - 0s 0us/step\n",
            "Downloading data from https://storage.googleapis.com/tensorflow/tf-keras-datasets/t10k-labels-idx1-ubyte.gz\n",
            "8192/5148 [===============================================] - 0s 0us/step\n",
            "Downloading data from https://storage.googleapis.com/tensorflow/tf-keras-datasets/t10k-images-idx3-ubyte.gz\n",
            "4423680/4422102 [==============================] - 0s 0us/step\n"
          ],
          "name": "stdout"
        }
      ]
    },
    {
      "cell_type": "markdown",
      "metadata": {
        "id": "kAQX6KoVPJiq",
        "colab_type": "text"
      },
      "source": [
        "## Task 4: Model Checkpoint During Training"
      ]
    },
    {
      "cell_type": "code",
      "metadata": {
        "id": "QfNoBCUMPJir",
        "colab_type": "code",
        "colab": {
          "base_uri": "https://localhost:8080/",
          "height": 104
        },
        "outputId": "cdab0c79-b844-48e6-a121-ca5e0be5b9d1"
      },
      "source": [
        "checkpoint_dir = 'weights/'\n",
        "\n",
        "_ = model.fit(\n",
        "    x_train, y_train,\n",
        "    validation_data=(x_test, y_test),\n",
        "    epochs=2,\n",
        "    batch_size=512,\n",
        "    callbacks=[\n",
        "        tf.keras.callbacks.ModelCheckpoint(\n",
        "            os.path.join(checkpoint_dir, 'epoch_{epoch:02d}_acc_{val_acc:.4f}'),\n",
        "            monitor='val_acc', save_weights_only=True, save_best_only=True\n",
        "        )\n",
        "    ]\n",
        ")"
      ],
      "execution_count": 4,
      "outputs": [
        {
          "output_type": "stream",
          "text": [
            "Epoch 1/2\n",
            "118/118 [==============================] - 1s 12ms/step - loss: 0.6759 - acc: 0.7724 - val_loss: 0.4878 - val_acc: 0.8302\n",
            "Epoch 2/2\n",
            "118/118 [==============================] - 1s 10ms/step - loss: 0.4322 - acc: 0.8494 - val_loss: 0.4412 - val_acc: 0.8499\n"
          ],
          "name": "stdout"
        }
      ]
    },
    {
      "cell_type": "code",
      "metadata": {
        "id": "BIm1nhOzPJiv",
        "colab_type": "code",
        "colab": {
          "base_uri": "https://localhost:8080/",
          "height": 101
        },
        "outputId": "170259f8-10e2-449c-db9c-ec5b6a007ba5"
      },
      "source": [
        "os.listdir(checkpoint_dir)"
      ],
      "execution_count": 5,
      "outputs": [
        {
          "output_type": "execute_result",
          "data": {
            "text/plain": [
              "['epoch_01_acc_0.8302.index',\n",
              " 'checkpoint',\n",
              " 'epoch_01_acc_0.8302.data-00000-of-00001',\n",
              " 'epoch_02_acc_0.8499.index',\n",
              " 'epoch_02_acc_0.8499.data-00000-of-00001']"
            ]
          },
          "metadata": {
            "tags": []
          },
          "execution_count": 5
        }
      ]
    },
    {
      "cell_type": "markdown",
      "metadata": {
        "id": "9jOuRknUPJi1",
        "colab_type": "text"
      },
      "source": [
        "## Task 5: Load Weights"
      ]
    },
    {
      "cell_type": "code",
      "metadata": {
        "id": "Q_PjMXZ7PJi2",
        "colab_type": "code",
        "colab": {
          "base_uri": "https://localhost:8080/",
          "height": 34
        },
        "outputId": "a1dd22c2-b4c8-439b-fe2b-b6a5b7e7d037"
      },
      "source": [
        "model = create_model()\n",
        "print(model.evaluate(x_test, y_test, verbose=False))"
      ],
      "execution_count": 6,
      "outputs": [
        {
          "output_type": "stream",
          "text": [
            "[2.387512683868408, 0.11620000004768372]\n"
          ],
          "name": "stdout"
        }
      ]
    },
    {
      "cell_type": "code",
      "metadata": {
        "id": "8NMBcgK_PJi6",
        "colab_type": "code",
        "colab": {
          "base_uri": "https://localhost:8080/",
          "height": 34
        },
        "outputId": "28b429bd-4660-45bd-b09d-db6021bed123"
      },
      "source": [
        "model.load_weights('weights/epoch_02_acc_0.8499')\n",
        "print(model.evaluate(x_test, y_test, verbose=False))"
      ],
      "execution_count": 8,
      "outputs": [
        {
          "output_type": "stream",
          "text": [
            "[0.44117480516433716, 0.8499000072479248]\n"
          ],
          "name": "stdout"
        }
      ]
    },
    {
      "cell_type": "markdown",
      "metadata": {
        "id": "tDzKOr1wPJi9",
        "colab_type": "text"
      },
      "source": [
        "## Task 6: Saving Complete Model During Training"
      ]
    },
    {
      "cell_type": "code",
      "metadata": {
        "id": "34EADxwSPJi-",
        "colab_type": "code",
        "colab": {
          "base_uri": "https://localhost:8080/",
          "height": 104
        },
        "outputId": "c9824107-25c3-4d54-ec25-ed02b969f20c"
      },
      "source": [
        "models_dir = 'models'\n",
        "\n",
        "model = create_model()\n",
        "\n",
        "_ = model.fit(\n",
        "    x_train, y_train,\n",
        "    validation_data=(x_test, y_test),\n",
        "    epochs=2,\n",
        "    batch_size=512,\n",
        "    callbacks=[\n",
        "        tf.keras.callbacks.ModelCheckpoint(\n",
        "            os.path.join(models_dir, 'epoch_{epoch:02d}_acc_{val_acc:.4f}.h5'),\n",
        "            monitor='val_acc', save_weights_only=False, save_best_only=False\n",
        "        )\n",
        "    ]\n",
        ")"
      ],
      "execution_count": 9,
      "outputs": [
        {
          "output_type": "stream",
          "text": [
            "Epoch 1/2\n",
            "118/118 [==============================] - 1s 11ms/step - loss: 0.6705 - acc: 0.7751 - val_loss: 0.4872 - val_acc: 0.8270\n",
            "Epoch 2/2\n",
            "118/118 [==============================] - 1s 10ms/step - loss: 0.4286 - acc: 0.8505 - val_loss: 0.4404 - val_acc: 0.8445\n"
          ],
          "name": "stdout"
        }
      ]
    },
    {
      "cell_type": "code",
      "metadata": {
        "id": "2zXic0e_PJjC",
        "colab_type": "code",
        "colab": {
          "base_uri": "https://localhost:8080/",
          "height": 34
        },
        "outputId": "080eeadd-945e-4cdb-ee3f-b0b8bbe021f3"
      },
      "source": [
        "os.listdir(models_dir)"
      ],
      "execution_count": 10,
      "outputs": [
        {
          "output_type": "execute_result",
          "data": {
            "text/plain": [
              "['epoch_01_acc_0.8270.h5', 'epoch_02_acc_0.8445.h5']"
            ]
          },
          "metadata": {
            "tags": []
          },
          "execution_count": 10
        }
      ]
    },
    {
      "cell_type": "markdown",
      "metadata": {
        "id": "4TRdYjAxPJjF",
        "colab_type": "text"
      },
      "source": [
        "## Task 7: Load Models"
      ]
    },
    {
      "cell_type": "code",
      "metadata": {
        "id": "nX47nZxxPJjF",
        "colab_type": "code",
        "colab": {
          "base_uri": "https://localhost:8080/",
          "height": 34
        },
        "outputId": "765de5b8-4941-41fb-8a94-ff65b0648c69"
      },
      "source": [
        "model = create_model()\n",
        "print(model.evaluate(x_test, y_test, verbose=False))"
      ],
      "execution_count": 11,
      "outputs": [
        {
          "output_type": "stream",
          "text": [
            "[2.317486524581909, 0.1387999951839447]\n"
          ],
          "name": "stdout"
        }
      ]
    },
    {
      "cell_type": "code",
      "metadata": {
        "id": "DSR6ClbjPJjJ",
        "colab_type": "code",
        "colab": {
          "base_uri": "https://localhost:8080/",
          "height": 269
        },
        "outputId": "5ec46f9e-3b4a-4471-fefd-b64db1331b53"
      },
      "source": [
        "model = tf.keras.models.load_model('models/epoch_02_acc_0.8445.h5')\n",
        "model.summary()\n",
        "print(model.evaluate(x_test, y_test, verbose=False))"
      ],
      "execution_count": 12,
      "outputs": [
        {
          "output_type": "stream",
          "text": [
            "Model: \"sequential_2\"\n",
            "_________________________________________________________________\n",
            "Layer (type)                 Output Shape              Param #   \n",
            "=================================================================\n",
            "dense_6 (Dense)              (None, 128)               100480    \n",
            "_________________________________________________________________\n",
            "dense_7 (Dense)              (None, 128)               16512     \n",
            "_________________________________________________________________\n",
            "dense_8 (Dense)              (None, 10)                1290      \n",
            "=================================================================\n",
            "Total params: 118,282\n",
            "Trainable params: 118,282\n",
            "Non-trainable params: 0\n",
            "_________________________________________________________________\n",
            "[0.4403533637523651, 0.8445000052452087]\n"
          ],
          "name": "stdout"
        }
      ]
    },
    {
      "cell_type": "markdown",
      "metadata": {
        "id": "OG6HkT9SPJjM",
        "colab_type": "text"
      },
      "source": [
        "## Task 8: Manually Saving Weights and Models"
      ]
    },
    {
      "cell_type": "code",
      "metadata": {
        "id": "0s4qiZr4PJjN",
        "colab_type": "code",
        "colab": {
          "base_uri": "https://localhost:8080/",
          "height": 34
        },
        "outputId": "136a2f1c-78fd-4af1-ceb5-7c5b42e10d29"
      },
      "source": [
        "model.save_weights('tmp/manually_saved')\n",
        "print(os.listdir('tmp'))"
      ],
      "execution_count": 13,
      "outputs": [
        {
          "output_type": "stream",
          "text": [
            "['checkpoint', 'manually_saved.data-00000-of-00001', 'manually_saved.index']\n"
          ],
          "name": "stdout"
        }
      ]
    },
    {
      "cell_type": "code",
      "metadata": {
        "id": "JnoFcSIuPJjP",
        "colab_type": "code",
        "colab": {
          "base_uri": "https://localhost:8080/",
          "height": 54
        },
        "outputId": "7a54b191-469c-4d17-ce46-fb145336be06"
      },
      "source": [
        "model.save('tmp/manually_saved_model.h5')\n",
        "print(os.listdir('tmp'))"
      ],
      "execution_count": 14,
      "outputs": [
        {
          "output_type": "stream",
          "text": [
            "['checkpoint', 'manually_saved.data-00000-of-00001', 'manually_saved_model.h5', 'manually_saved.index']\n"
          ],
          "name": "stdout"
        }
      ]
    },
    {
      "cell_type": "markdown",
      "metadata": {
        "id": "uwjfNCJ3PJjT",
        "colab_type": "text"
      },
      "source": [
        "## Task 9: Exporting and Restoring SavedModel Format"
      ]
    },
    {
      "cell_type": "code",
      "metadata": {
        "id": "UStWowZyPJjU",
        "colab_type": "code",
        "colab": {
          "base_uri": "https://localhost:8080/",
          "height": 121
        },
        "outputId": "db81c96c-a849-4934-a4e0-b21d73b213a9"
      },
      "source": [
        "model.save('model_name')\n",
        "print(os.listdir('model_name'))"
      ],
      "execution_count": 15,
      "outputs": [
        {
          "output_type": "stream",
          "text": [
            "WARNING:tensorflow:From /usr/local/lib/python3.6/dist-packages/tensorflow/python/ops/resource_variable_ops.py:1817: calling BaseResourceVariable.__init__ (from tensorflow.python.ops.resource_variable_ops) with constraint is deprecated and will be removed in a future version.\n",
            "Instructions for updating:\n",
            "If using Keras pass *_constraint arguments to layers.\n",
            "INFO:tensorflow:Assets written to: model_name/assets\n",
            "['assets', 'saved_model.pb', 'variables']\n"
          ],
          "name": "stdout"
        }
      ]
    },
    {
      "cell_type": "code",
      "metadata": {
        "id": "mLHeACK3PJja",
        "colab_type": "code",
        "colab": {
          "base_uri": "https://localhost:8080/",
          "height": 34
        },
        "outputId": "7cfe0018-b7e9-43c8-8139-ecdd63982ef0"
      },
      "source": [
        "model = tf.keras.models.load_model('model_name')\n",
        "print(model.evaluate(x_test, y_test, verbose=False))"
      ],
      "execution_count": 16,
      "outputs": [
        {
          "output_type": "stream",
          "text": [
            "[0.4403533637523651, 0.8445000052452087]\n"
          ],
          "name": "stdout"
        }
      ]
    }
  ]
}