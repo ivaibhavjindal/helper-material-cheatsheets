{
  "nbformat": 4,
  "nbformat_minor": 0,
  "metadata": {
    "colab": {
      "name": "PCA.ipynb",
      "provenance": []
    },
    "kernelspec": {
      "name": "python3",
      "display_name": "Python 3"
    }
  },
  "cells": [
    {
      "cell_type": "markdown",
      "metadata": {
        "id": "wFsxDDZHYv2e"
      },
      "source": [
        "#*Dimension Reduction Using PCA*"
      ]
    },
    {
      "cell_type": "code",
      "metadata": {
        "id": "z_lWBcnUR_z0"
      },
      "source": [
        "#import the libraries\n",
        "import numpy as np\n",
        "import pandas as pd\n",
        "import matplotlib.pyplot as plt"
      ],
      "execution_count": null,
      "outputs": []
    },
    {
      "cell_type": "code",
      "metadata": {
        "id": "FJV4R6CMSGIy",
        "outputId": "72e9ab78-d6c0-4438-9cd8-24b333441f8c",
        "colab": {
          "resources": {
            "http://localhost:8080/nbextensions/google.colab/files.js": {
              "data": "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",
              "ok": true,
              "headers": [
                [
                  "content-type",
                  "application/javascript"
                ]
              ],
              "status": 200,
              "status_text": ""
            }
          },
          "base_uri": "https://localhost:8080/",
          "height": 319
        }
      },
      "source": [
        "#import dataset\n",
        "from google.colab import files \n",
        "\n",
        "\n",
        "uploaded = files.upload()\n",
        "\n",
        "import io\n",
        "data = pd.read_csv(io.BytesIO(uploaded['Wine_P.csv'])) \n",
        "print(data)"
      ],
      "execution_count": null,
      "outputs": [
        {
          "output_type": "display_data",
          "data": {
            "text/html": [
              "\n",
              "     <input type=\"file\" id=\"files-5819423d-607e-4cce-a28c-da0cf4bbf780\" name=\"files[]\" multiple disabled\n",
              "        style=\"border:none\" />\n",
              "     <output id=\"result-5819423d-607e-4cce-a28c-da0cf4bbf780\">\n",
              "      Upload widget is only available when the cell has been executed in the\n",
              "      current browser session. Please rerun this cell to enable.\n",
              "      </output>\n",
              "      <script src=\"/nbextensions/google.colab/files.js\"></script> "
            ],
            "text/plain": [
              "<IPython.core.display.HTML object>"
            ]
          },
          "metadata": {
            "tags": []
          }
        },
        {
          "output_type": "stream",
          "text": [
            "Saving Wine_P.csv to Wine_P.csv\n",
            "     Alcohol  Malic_Acid   Ash  ...  OD280  Proline  Customer_Segment\n",
            "0      14.23        1.71  2.43  ...   3.92     1065                 1\n",
            "1      13.20        1.78  2.14  ...   3.40     1050                 1\n",
            "2      13.16        2.36  2.67  ...   3.17     1185                 1\n",
            "3      14.37        1.95  2.50  ...   3.45     1480                 1\n",
            "4      13.24        2.59  2.87  ...   2.93      735                 1\n",
            "..       ...         ...   ...  ...    ...      ...               ...\n",
            "173    13.71        5.65  2.45  ...   1.74      740                 3\n",
            "174    13.40        3.91  2.48  ...   1.56      750                 3\n",
            "175    13.27        4.28  2.26  ...   1.56      835                 3\n",
            "176    13.17        2.59  2.37  ...   1.62      840                 3\n",
            "177    14.13        4.10  2.74  ...   1.60      560                 3\n",
            "\n",
            "[178 rows x 14 columns]\n"
          ],
          "name": "stdout"
        }
      ]
    },
    {
      "cell_type": "code",
      "metadata": {
        "id": "0Wo4PJbvSMeu",
        "outputId": "5d3acd56-21d5-4246-f777-357743517307",
        "colab": {
          "base_uri": "https://localhost:8080/",
          "height": 223
        }
      },
      "source": [
        "data.head()"
      ],
      "execution_count": null,
      "outputs": [
        {
          "output_type": "execute_result",
          "data": {
            "text/html": [
              "<div>\n",
              "<style scoped>\n",
              "    .dataframe tbody tr th:only-of-type {\n",
              "        vertical-align: middle;\n",
              "    }\n",
              "\n",
              "    .dataframe tbody tr th {\n",
              "        vertical-align: top;\n",
              "    }\n",
              "\n",
              "    .dataframe thead th {\n",
              "        text-align: right;\n",
              "    }\n",
              "</style>\n",
              "<table border=\"1\" class=\"dataframe\">\n",
              "  <thead>\n",
              "    <tr style=\"text-align: right;\">\n",
              "      <th></th>\n",
              "      <th>Alcohol</th>\n",
              "      <th>Malic_Acid</th>\n",
              "      <th>Ash</th>\n",
              "      <th>Ash_Alcanity</th>\n",
              "      <th>Magnesium</th>\n",
              "      <th>Total_Phenols</th>\n",
              "      <th>Flavanoids</th>\n",
              "      <th>Nonflavanoid_Phenols</th>\n",
              "      <th>Proanthocyanins</th>\n",
              "      <th>Color_Intensity</th>\n",
              "      <th>Hue</th>\n",
              "      <th>OD280</th>\n",
              "      <th>Proline</th>\n",
              "      <th>Customer_Segment</th>\n",
              "    </tr>\n",
              "  </thead>\n",
              "  <tbody>\n",
              "    <tr>\n",
              "      <th>0</th>\n",
              "      <td>14.23</td>\n",
              "      <td>1.71</td>\n",
              "      <td>2.43</td>\n",
              "      <td>15.6</td>\n",
              "      <td>127</td>\n",
              "      <td>2.80</td>\n",
              "      <td>3.06</td>\n",
              "      <td>0.28</td>\n",
              "      <td>2.29</td>\n",
              "      <td>5.64</td>\n",
              "      <td>1.04</td>\n",
              "      <td>3.92</td>\n",
              "      <td>1065</td>\n",
              "      <td>1</td>\n",
              "    </tr>\n",
              "    <tr>\n",
              "      <th>1</th>\n",
              "      <td>13.20</td>\n",
              "      <td>1.78</td>\n",
              "      <td>2.14</td>\n",
              "      <td>11.2</td>\n",
              "      <td>100</td>\n",
              "      <td>2.65</td>\n",
              "      <td>2.76</td>\n",
              "      <td>0.26</td>\n",
              "      <td>1.28</td>\n",
              "      <td>4.38</td>\n",
              "      <td>1.05</td>\n",
              "      <td>3.40</td>\n",
              "      <td>1050</td>\n",
              "      <td>1</td>\n",
              "    </tr>\n",
              "    <tr>\n",
              "      <th>2</th>\n",
              "      <td>13.16</td>\n",
              "      <td>2.36</td>\n",
              "      <td>2.67</td>\n",
              "      <td>18.6</td>\n",
              "      <td>101</td>\n",
              "      <td>2.80</td>\n",
              "      <td>3.24</td>\n",
              "      <td>0.30</td>\n",
              "      <td>2.81</td>\n",
              "      <td>5.68</td>\n",
              "      <td>1.03</td>\n",
              "      <td>3.17</td>\n",
              "      <td>1185</td>\n",
              "      <td>1</td>\n",
              "    </tr>\n",
              "    <tr>\n",
              "      <th>3</th>\n",
              "      <td>14.37</td>\n",
              "      <td>1.95</td>\n",
              "      <td>2.50</td>\n",
              "      <td>16.8</td>\n",
              "      <td>113</td>\n",
              "      <td>3.85</td>\n",
              "      <td>3.49</td>\n",
              "      <td>0.24</td>\n",
              "      <td>2.18</td>\n",
              "      <td>7.80</td>\n",
              "      <td>0.86</td>\n",
              "      <td>3.45</td>\n",
              "      <td>1480</td>\n",
              "      <td>1</td>\n",
              "    </tr>\n",
              "    <tr>\n",
              "      <th>4</th>\n",
              "      <td>13.24</td>\n",
              "      <td>2.59</td>\n",
              "      <td>2.87</td>\n",
              "      <td>21.0</td>\n",
              "      <td>118</td>\n",
              "      <td>2.80</td>\n",
              "      <td>2.69</td>\n",
              "      <td>0.39</td>\n",
              "      <td>1.82</td>\n",
              "      <td>4.32</td>\n",
              "      <td>1.04</td>\n",
              "      <td>2.93</td>\n",
              "      <td>735</td>\n",
              "      <td>1</td>\n",
              "    </tr>\n",
              "  </tbody>\n",
              "</table>\n",
              "</div>"
            ],
            "text/plain": [
              "   Alcohol  Malic_Acid   Ash  ...  OD280  Proline  Customer_Segment\n",
              "0    14.23        1.71  2.43  ...   3.92     1065                 1\n",
              "1    13.20        1.78  2.14  ...   3.40     1050                 1\n",
              "2    13.16        2.36  2.67  ...   3.17     1185                 1\n",
              "3    14.37        1.95  2.50  ...   3.45     1480                 1\n",
              "4    13.24        2.59  2.87  ...   2.93      735                 1\n",
              "\n",
              "[5 rows x 14 columns]"
            ]
          },
          "metadata": {
            "tags": []
          },
          "execution_count": 3
        }
      ]
    },
    {
      "cell_type": "code",
      "metadata": {
        "id": "WumMGAkcSSfI",
        "outputId": "7ab58a89-4d24-455e-b454-eabcbdf4371f",
        "colab": {
          "base_uri": "https://localhost:8080/",
          "height": 34
        }
      },
      "source": [
        "#shape of dataset\n",
        "data.shape"
      ],
      "execution_count": null,
      "outputs": [
        {
          "output_type": "execute_result",
          "data": {
            "text/plain": [
              "(178, 14)"
            ]
          },
          "metadata": {
            "tags": []
          },
          "execution_count": 4
        }
      ]
    },
    {
      "cell_type": "code",
      "metadata": {
        "id": "XIcPWUIeSW2B",
        "outputId": "d11a4c9a-93cb-4e08-94a7-1e03acebb869",
        "colab": {
          "base_uri": "https://localhost:8080/",
          "height": 34
        }
      },
      "source": [
        "#Extraction of independent variable\n",
        "X = data.iloc[:,0:13].values\n",
        "X.shape"
      ],
      "execution_count": null,
      "outputs": [
        {
          "output_type": "execute_result",
          "data": {
            "text/plain": [
              "(178, 13)"
            ]
          },
          "metadata": {
            "tags": []
          },
          "execution_count": 6
        }
      ]
    },
    {
      "cell_type": "code",
      "metadata": {
        "id": "5onl3s3tSkLM",
        "outputId": "370e77f8-d522-4b98-b930-b81b6341dd28",
        "colab": {
          "base_uri": "https://localhost:8080/",
          "height": 34
        }
      },
      "source": [
        "#Extraction of dependent variable\n",
        "Y = data.iloc[:,13].values\n",
        "Y.shape"
      ],
      "execution_count": null,
      "outputs": [
        {
          "output_type": "execute_result",
          "data": {
            "text/plain": [
              "(178,)"
            ]
          },
          "metadata": {
            "tags": []
          },
          "execution_count": 7
        }
      ]
    },
    {
      "cell_type": "code",
      "metadata": {
        "id": "NzO2WRXXSv50"
      },
      "source": [
        "#splitting the dataset into training and testing set\n",
        "from sklearn.model_selection import train_test_split\n",
        "X_train, X_test, Y_train, Y_test = train_test_split(X, Y, test_size=0.2, random_state = 30)"
      ],
      "execution_count": null,
      "outputs": []
    },
    {
      "cell_type": "code",
      "metadata": {
        "id": "QEmfn-qxS7VE"
      },
      "source": [
        "#Feature Scaling\n",
        "from sklearn.preprocessing import StandardScaler\n",
        "sc = StandardScaler()\n",
        "X_train = sc.fit_transform(X_train)\n",
        "X_test = sc.transform(X_test)"
      ],
      "execution_count": null,
      "outputs": []
    },
    {
      "cell_type": "code",
      "metadata": {
        "id": "pRHTmXzjTfBE",
        "outputId": "6ab95181-dd5a-4e83-c580-85900e58bba1",
        "colab": {
          "base_uri": "https://localhost:8080/",
          "height": 34
        }
      },
      "source": [
        "#Original Dimensions of data\n",
        "X_train.shape"
      ],
      "execution_count": null,
      "outputs": [
        {
          "output_type": "execute_result",
          "data": {
            "text/plain": [
              "(142, 13)"
            ]
          },
          "metadata": {
            "tags": []
          },
          "execution_count": 11
        }
      ]
    },
    {
      "cell_type": "code",
      "metadata": {
        "id": "WS71GEKgTjc0"
      },
      "source": [
        "#Applying PCA\n",
        "from sklearn.decomposition import PCA\n",
        "pca = PCA(n_components=2)\n",
        "X_train = pca.fit_transform(X_train)\n",
        "X_test = pca.transform(X_test)"
      ],
      "execution_count": null,
      "outputs": []
    },
    {
      "cell_type": "code",
      "metadata": {
        "id": "1fo16pbiT7LO",
        "outputId": "e493538a-fe8c-419a-aeae-08a2cba190c8",
        "colab": {
          "base_uri": "https://localhost:8080/",
          "height": 1000
        }
      },
      "source": [
        "X_train"
      ],
      "execution_count": null,
      "outputs": [
        {
          "output_type": "execute_result",
          "data": {
            "text/plain": [
              "array([[-1.45705693e+00,  1.33941180e+00],\n",
              "       [-3.90274552e+00, -2.30252389e-01],\n",
              "       [ 1.53401586e+00,  1.61589358e+00],\n",
              "       [ 3.13861604e+00, -6.66329641e-01],\n",
              "       [ 1.57674053e-01,  2.38594454e+00],\n",
              "       [ 3.07953857e+00, -2.05593465e+00],\n",
              "       [ 2.54824809e+00, -8.78370348e-01],\n",
              "       [-2.67722104e+00, -2.18259194e+00],\n",
              "       [ 7.75701381e-01,  2.35731489e+00],\n",
              "       [ 3.08128890e+00, -1.07711980e+00],\n",
              "       [ 2.18310356e+00, -1.18364614e+00],\n",
              "       [ 2.51291331e+00, -8.56641788e-01],\n",
              "       [ 1.38090936e+00,  2.32753572e+00],\n",
              "       [-2.25879946e+00, -4.62915029e-01],\n",
              "       [-1.25432233e+00,  8.80716156e-01],\n",
              "       [ 1.50747118e+00,  7.28139195e-01],\n",
              "       [-2.82464783e+00, -1.95714955e+00],\n",
              "       [-7.68710798e-01,  1.07800675e+00],\n",
              "       [-3.82651328e-01,  2.18482401e+00],\n",
              "       [-5.51521733e-01,  2.39241255e+00],\n",
              "       [-2.61019086e+00, -2.81948024e+00],\n",
              "       [-1.68280599e+00,  1.35621038e+00],\n",
              "       [ 5.78332549e-02,  2.40420212e+00],\n",
              "       [-6.31815006e-01,  2.42366442e+00],\n",
              "       [-3.17756326e+00,  1.17982810e-01],\n",
              "       [ 1.37580927e+00,  1.72545516e+00],\n",
              "       [-2.82961491e+00, -5.85760138e-01],\n",
              "       [ 9.40041992e-01, -7.51416382e-01],\n",
              "       [-5.14148573e-01,  8.53280126e-01],\n",
              "       [ 4.37062428e+00, -1.99416618e+00],\n",
              "       [ 1.63449021e+00,  1.24132873e-02],\n",
              "       [-3.01283939e+00, -4.79277050e-01],\n",
              "       [ 9.18463395e-01,  1.73423448e+00],\n",
              "       [ 2.25065775e+00,  1.93207322e+00],\n",
              "       [-2.54561191e+00,  1.45882813e-01],\n",
              "       [-2.19996875e+00, -1.25888449e+00],\n",
              "       [-1.57181476e+00,  8.29516915e-01],\n",
              "       [ 1.87700683e+00, -5.87798084e-02],\n",
              "       [-2.38622617e+00, -2.92798771e-01],\n",
              "       [ 7.20906726e-01,  2.40168868e+00],\n",
              "       [-2.39520388e+00, -2.29025914e+00],\n",
              "       [-2.86576578e+00, -1.43014904e+00],\n",
              "       [-2.30008633e+00, -2.41042828e+00],\n",
              "       [-4.24147622e+00, -7.48259871e-01],\n",
              "       [ 2.82917446e+00, -5.41433717e-01],\n",
              "       [-2.35709877e+00, -4.82690516e-01],\n",
              "       [ 2.46798264e+00, -1.09687003e+00],\n",
              "       [ 1.77878018e+00,  1.37528055e+00],\n",
              "       [ 1.22263912e+00,  1.69603554e-03],\n",
              "       [ 2.48643429e+00, -1.10377853e+00],\n",
              "       [-1.79959519e+00,  6.49170401e-01],\n",
              "       [ 4.22405323e-01,  3.91664324e+00],\n",
              "       [-2.94206651e+00, -3.67683148e-01],\n",
              "       [-6.94551716e-01,  2.69426420e+00],\n",
              "       [ 7.76104405e-01,  2.01984775e+00],\n",
              "       [-1.52568620e-01,  2.19924143e+00],\n",
              "       [-9.95459480e-03,  1.38118751e+00],\n",
              "       [-5.57708575e-01,  2.25049167e+00],\n",
              "       [-5.57654668e-01,  3.71251324e-01],\n",
              "       [-2.15621678e+00, -2.09248426e+00],\n",
              "       [ 2.27255607e+00, -1.06633153e-01],\n",
              "       [-2.40692827e+00,  1.17014298e+00],\n",
              "       [ 1.63506307e+00,  5.53633178e-01],\n",
              "       [ 2.67197723e+00, -1.40552327e+00],\n",
              "       [-3.29535922e-01,  1.98482907e+00],\n",
              "       [-1.00052911e+00, -3.40033116e+00],\n",
              "       [ 7.23980148e-01,  3.35696260e+00],\n",
              "       [-2.85850594e+00, -2.12722423e+00],\n",
              "       [ 2.01796313e+00, -1.13418458e+00],\n",
              "       [-3.11961096e+00, -7.88686653e-01],\n",
              "       [ 1.58936264e+00,  1.09050675e+00],\n",
              "       [-2.57922320e+00, -1.75830634e+00],\n",
              "       [-3.05558859e+00, -4.22556276e-01],\n",
              "       [ 3.14668393e+00, -1.65055131e+00],\n",
              "       [ 1.89402008e+00, -1.57019081e+00],\n",
              "       [-1.64559613e+00,  1.38961857e+00],\n",
              "       [ 3.16056097e-01,  1.22118549e+00],\n",
              "       [ 3.47515373e+00, -1.17230466e+00],\n",
              "       [-5.50410615e-01,  2.07992335e+00],\n",
              "       [ 2.20923730e+00,  1.50657227e+00],\n",
              "       [ 9.90175396e-01, -7.42128683e-01],\n",
              "       [-1.93739750e+00,  1.54727862e+00],\n",
              "       [-1.81722169e+00, -1.52113012e+00],\n",
              "       [ 2.77251811e+00, -7.39336777e-01],\n",
              "       [ 1.90206206e+00, -1.57167421e+00],\n",
              "       [-2.98325208e+00, -5.40563895e-01],\n",
              "       [ 2.17402398e+00, -2.22626935e+00],\n",
              "       [ 2.76179006e+00, -1.32814131e+00],\n",
              "       [ 6.49986779e-01, -8.57671184e-02],\n",
              "       [ 2.86999080e+00, -6.70388780e-01],\n",
              "       [ 3.85572747e-01,  2.05276321e+00],\n",
              "       [-1.51193291e+00,  1.18281895e+00],\n",
              "       [ 2.17637992e+00, -5.82948332e-01],\n",
              "       [ 4.60678229e-01, -2.26696542e-01],\n",
              "       [ 1.40661743e+00, -6.61362869e-01],\n",
              "       [ 2.09454855e+00,  1.86143201e-01],\n",
              "       [ 3.53034017e+00, -1.53334098e+00],\n",
              "       [ 2.72888203e+00, -1.69275054e+00],\n",
              "       [ 2.10442975e+00, -9.98014514e-01],\n",
              "       [-3.55237215e+00, -1.32482865e+00],\n",
              "       [-1.80601556e+00,  1.82282311e+00],\n",
              "       [ 1.98347552e+00,  1.47185321e+00],\n",
              "       [-2.35722165e+00, -2.64897038e+00],\n",
              "       [ 2.52969964e+00,  1.90518998e-01],\n",
              "       [ 6.91031204e-01,  1.54489431e+00],\n",
              "       [-3.94775762e+00, -6.15302124e-01],\n",
              "       [ 2.57036484e+00, -1.66451048e+00],\n",
              "       [ 2.53291075e+00,  5.23484057e-02],\n",
              "       [-8.52735094e-01,  2.29786117e+00],\n",
              "       [ 3.52161880e-01,  2.16856797e+00],\n",
              "       [ 1.29604098e+00,  8.24114632e-01],\n",
              "       [-1.58143370e+00,  1.85572435e+00],\n",
              "       [-4.92683106e-01,  2.24533594e+00],\n",
              "       [ 2.45847843e+00, -1.17644336e+00],\n",
              "       [ 3.51441734e+00, -1.04468512e+00],\n",
              "       [ 2.32851760e+00, -1.68238621e+00],\n",
              "       [ 1.77379519e+00, -6.27460280e-01],\n",
              "       [-3.40366806e+00, -1.29408358e+00],\n",
              "       [-6.13826616e-01,  1.80008666e+00],\n",
              "       [ 2.73355818e+00, -1.02217377e+00],\n",
              "       [ 1.23683318e+00,  8.17586519e-02],\n",
              "       [ 3.28233907e-02,  1.15720237e+00],\n",
              "       [-2.32382770e+00,  3.46122507e-01],\n",
              "       [-2.16042564e+00, -1.25698240e+00],\n",
              "       [-2.01637428e-01,  1.26435671e+00],\n",
              "       [-2.98835704e-01,  2.87764777e+00],\n",
              "       [-2.90066447e+00, -1.66881967e+00],\n",
              "       [ 3.56435074e+00, -2.48766251e+00],\n",
              "       [-2.55646990e+00, -7.86408435e-01],\n",
              "       [ 9.01599267e-01,  7.66265410e-01],\n",
              "       [-5.82183503e-01,  2.33061979e+00],\n",
              "       [ 2.06981676e+00, -1.54961389e+00],\n",
              "       [-2.36217017e+00, -5.05085950e-01],\n",
              "       [-2.61302938e+00, -5.55758069e-01],\n",
              "       [ 2.24597990e+00, -1.82755102e+00],\n",
              "       [-1.29809143e+00, -3.16024582e-01],\n",
              "       [-2.50483245e+00, -2.15469212e+00],\n",
              "       [-2.75906459e+00, -3.41690017e-01],\n",
              "       [ 1.13224435e+00, -1.66181845e+00],\n",
              "       [-3.32193659e+00, -2.23569513e+00],\n",
              "       [-3.50238060e+00, -9.11905472e-01],\n",
              "       [ 1.12223720e+00, -1.33248948e-01]])"
            ]
          },
          "metadata": {
            "tags": []
          },
          "execution_count": 13
        }
      ]
    },
    {
      "cell_type": "code",
      "metadata": {
        "id": "wwEBHia2T-aa",
        "outputId": "6a60cf48-df86-4269-a8d9-b3819cb72e29",
        "colab": {
          "base_uri": "https://localhost:8080/",
          "height": 34
        }
      },
      "source": [
        "#New Dimensions after applying PCA\n",
        "X_train.shape"
      ],
      "execution_count": null,
      "outputs": [
        {
          "output_type": "execute_result",
          "data": {
            "text/plain": [
              "(142, 2)"
            ]
          },
          "metadata": {
            "tags": []
          },
          "execution_count": 14
        }
      ]
    },
    {
      "cell_type": "code",
      "metadata": {
        "id": "ProEFl2kUDnm",
        "outputId": "fd478707-a9fa-416e-c0e2-7ebc8d8c033c",
        "colab": {
          "base_uri": "https://localhost:8080/",
          "height": 87
        }
      },
      "source": [
        "#fitting SVM to training set\n",
        "from sklearn.svm import SVC\n",
        "model = SVC(kernel='rbf')\n",
        "model.fit(X_train,Y_train)"
      ],
      "execution_count": null,
      "outputs": [
        {
          "output_type": "execute_result",
          "data": {
            "text/plain": [
              "SVC(C=1.0, break_ties=False, cache_size=200, class_weight=None, coef0=0.0,\n",
              "    decision_function_shape='ovr', degree=3, gamma='scale', kernel='rbf',\n",
              "    max_iter=-1, probability=False, random_state=None, shrinking=True,\n",
              "    tol=0.001, verbose=False)"
            ]
          },
          "metadata": {
            "tags": []
          },
          "execution_count": 15
        }
      ]
    },
    {
      "cell_type": "code",
      "metadata": {
        "id": "Hns4v371UR83",
        "outputId": "52927d2e-96d8-424d-87f6-f9069d72d4b6",
        "colab": {
          "base_uri": "https://localhost:8080/",
          "height": 52
        }
      },
      "source": [
        "#predicting the test set results\n",
        "Y_pred = model.predict(X_test)\n",
        "Y_pred"
      ],
      "execution_count": null,
      "outputs": [
        {
          "output_type": "execute_result",
          "data": {
            "text/plain": [
              "array([1, 1, 3, 2, 3, 2, 3, 3, 1, 1, 2, 2, 1, 2, 2, 3, 1, 3, 1, 2, 1, 2,\n",
              "       1, 2, 2, 2, 3, 2, 2, 2, 1, 3, 3, 1, 1, 2])"
            ]
          },
          "metadata": {
            "tags": []
          },
          "execution_count": 17
        }
      ]
    },
    {
      "cell_type": "code",
      "metadata": {
        "id": "45tRn2XJUcm8",
        "outputId": "b1f81caa-c3bb-476c-ccc1-2f33472e7917",
        "colab": {
          "base_uri": "https://localhost:8080/",
          "height": 70
        }
      },
      "source": [
        "#Making the Confusion matrix\n",
        "from sklearn.metrics import confusion_matrix\n",
        "cm = confusion_matrix(Y_test,Y_pred)\n",
        "cm"
      ],
      "execution_count": null,
      "outputs": [
        {
          "output_type": "execute_result",
          "data": {
            "text/plain": [
              "array([[11,  0,  0],\n",
              "       [ 1, 15,  0],\n",
              "       [ 0,  0,  9]])"
            ]
          },
          "metadata": {
            "tags": []
          },
          "execution_count": 19
        }
      ]
    },
    {
      "cell_type": "code",
      "metadata": {
        "id": "-eceNLosUuY2",
        "outputId": "1ada8dd4-b0e1-4bc8-f894-3ff40f241190",
        "colab": {
          "base_uri": "https://localhost:8080/",
          "height": 351
        }
      },
      "source": [
        "#heatmap\n",
        "import seaborn as sns\n",
        "plt.figure(figsize = (5,5))\n",
        "sns.heatmap(cm, fmt=\".3f\", annot=True)\n",
        "plt.xlabel('Actual label')\n",
        "plt.ylabel('Predicted label')"
      ],
      "execution_count": null,
      "outputs": [
        {
          "output_type": "execute_result",
          "data": {
            "text/plain": [
              "Text(24.0, 0.5, 'Predicted label')"
            ]
          },
          "metadata": {
            "tags": []
          },
          "execution_count": 20
        },
        {
          "output_type": "display_data",
          "data": {
            "image/png": "[encoded data removed]",
            "text/plain": [
              "<Figure size 360x360 with 2 Axes>"
            ]
          },
          "metadata": {
            "tags": [],
            "needs_background": "light"
          }
        }
      ]
    },
    {
      "cell_type": "code",
      "metadata": {
        "id": "k8BCF_BzVE2g",
        "outputId": "e4f28a1b-dada-468d-b9a9-c0aa199db1b2",
        "colab": {
          "base_uri": "https://localhost:8080/",
          "height": 34
        }
      },
      "source": [
        "#Accuracy\n",
        "from sklearn.metrics import accuracy_score\n",
        "acc = accuracy_score(Y_test,Y_pred)*100\n",
        "acc"
      ],
      "execution_count": null,
      "outputs": [
        {
          "output_type": "execute_result",
          "data": {
            "text/plain": [
              "97.22222222222221"
            ]
          },
          "metadata": {
            "tags": []
          },
          "execution_count": 21
        }
      ]
    },
    {
      "cell_type": "code",
      "metadata": {
        "id": "JZoy8HA9VSMk",
        "outputId": "c4de1636-365b-4ee2-8cec-4443079339f4",
        "colab": {
          "base_uri": "https://localhost:8080/",
          "height": 193
        }
      },
      "source": [
        "#complete performance report\n",
        "from sklearn.metrics import classification_report\n",
        "print(classification_report(Y_test,Y_pred))"
      ],
      "execution_count": null,
      "outputs": [
        {
          "output_type": "stream",
          "text": [
            "              precision    recall  f1-score   support\n",
            "\n",
            "           1       0.92      1.00      0.96        11\n",
            "           2       1.00      0.94      0.97        16\n",
            "           3       1.00      1.00      1.00         9\n",
            "\n",
            "    accuracy                           0.97        36\n",
            "   macro avg       0.97      0.98      0.97        36\n",
            "weighted avg       0.97      0.97      0.97        36\n",
            "\n"
          ],
          "name": "stdout"
        }
      ]
    },
    {
      "cell_type": "code",
      "metadata": {
        "id": "grjx9cHhVewc",
        "outputId": "761074d0-1363-47d2-8ca5-3d821c51f339",
        "colab": {
          "base_uri": "https://localhost:8080/",
          "height": 368
        }
      },
      "source": [
        "#Visualising the Training set results\n",
        "from matplotlib.colors import ListedColormap\n",
        "X_set, Y_set = X_train, Y_train\n",
        "X1, X2 = np.meshgrid(np.arange(start = X_set[:,0].min()- 1, stop = X_set[:, 0].max()+ 1 , step = 0.01),\n",
        "                     np.arange(start = X_set[:, 1].min() - 1, stop = X_set[:, 1].max() + 1, step = 0.01))\n",
        "plt.contourf(X1, X2, model.predict(np.array([X1.ravel(), X2.ravel()]).T).reshape(X1.shape),\n",
        "             alpha = 0.75, cmap = ListedColormap(('red', 'green', 'blue')))\n",
        "plt.xlim(X1.min(), X1.max())\n",
        "plt.ylim(X2.min(), X2.max())\n",
        "for i,j in enumerate(np.unique(Y_set)):\n",
        "  plt.scatter(X_set[Y_set == j, 0], X_set[Y_set == j, 1],\n",
        "              c = ListedColormap(('cyan','yellow','pink'))(i), label = j)\n",
        "plt.title('SVM(Training Set)')\n",
        "plt.xlabel('PC1')\n",
        "plt.ylabel('PC2')\n",
        "plt.legend()\n",
        "plt.show()"
      ],
      "execution_count": null,
      "outputs": [
        {
          "output_type": "stream",
          "text": [
            "*c* argument looks like a single numeric RGB or RGBA sequence, which should be avoided as value-mapping will have precedence in case its length matches with *x* & *y*.  Please use the *color* keyword-argument or provide a 2-D array with a single row if you intend to specify the same RGB or RGBA value for all points.\n",
            "*c* argument looks like a single numeric RGB or RGBA sequence, which should be avoided as value-mapping will have precedence in case its length matches with *x* & *y*.  Please use the *color* keyword-argument or provide a 2-D array with a single row if you intend to specify the same RGB or RGBA value for all points.\n",
            "*c* argument looks like a single numeric RGB or RGBA sequence, which should be avoided as value-mapping will have precedence in case its length matches with *x* & *y*.  Please use the *color* keyword-argument or provide a 2-D array with a single row if you intend to specify the same RGB or RGBA value for all points.\n"
          ],
          "name": "stderr"
        },
        {
          "output_type": "display_data",
          "data": {
            "image/png": "[encoded data removed]",
            "text/plain": [
              "<Figure size 432x288 with 1 Axes>"
            ]
          },
          "metadata": {
            "tags": [],
            "needs_background": "light"
          }
        }
      ]
    },
    {
      "cell_type": "code",
      "metadata": {
        "id": "6S6I5-OBX0Xb",
        "outputId": "13c2047a-bc1b-4204-9e6b-d37d8590945f",
        "colab": {
          "base_uri": "https://localhost:8080/",
          "height": 368
        }
      },
      "source": [
        "#Visualising the test set results\n",
        "from matplotlib.colors import ListedColormap\n",
        "X_set, Y_set = X_test, Y_test\n",
        "X1, X2 = np.meshgrid(np.arange(start = X_set[:,0].min()- 1, stop = X_set[:, 0].max()+ 1 , step = 0.01),\n",
        "                     np.arange(start = X_set[:, 1].min() - 1, stop = X_set[:, 1].max() + 1, step = 0.01))\n",
        "plt.contourf(X1, X2, model.predict(np.array([X1.ravel(), X2.ravel()]).T).reshape(X1.shape),\n",
        "             alpha = 0.75, cmap = ListedColormap(('red', 'green', 'blue')))\n",
        "plt.xlim(X1.min(), X1.max())\n",
        "plt.ylim(X2.min(), X2.max())\n",
        "for i,j in enumerate(np.unique(Y_set)):\n",
        "  plt.scatter(X_set[Y_set == j, 0], X_set[Y_set == j, 1],\n",
        "              c = ListedColormap(('cyan','yellow','pink'))(i), label = j)\n",
        "plt.title('SVM(Test Set)')\n",
        "plt.xlabel('PC1')\n",
        "plt.ylabel('PC2')\n",
        "plt.legend()\n",
        "plt.show()"
      ],
      "execution_count": null,
      "outputs": [
        {
          "output_type": "stream",
          "text": [
            "*c* argument looks like a single numeric RGB or RGBA sequence, which should be avoided as value-mapping will have precedence in case its length matches with *x* & *y*.  Please use the *color* keyword-argument or provide a 2-D array with a single row if you intend to specify the same RGB or RGBA value for all points.\n",
            "*c* argument looks like a single numeric RGB or RGBA sequence, which should be avoided as value-mapping will have precedence in case its length matches with *x* & *y*.  Please use the *color* keyword-argument or provide a 2-D array with a single row if you intend to specify the same RGB or RGBA value for all points.\n",
            "*c* argument looks like a single numeric RGB or RGBA sequence, which should be avoided as value-mapping will have precedence in case its length matches with *x* & *y*.  Please use the *color* keyword-argument or provide a 2-D array with a single row if you intend to specify the same RGB or RGBA value for all points.\n"
          ],
          "name": "stderr"
        },
        {
          "output_type": "display_data",
          "data": {
            "image/png": "[encoded data removed]",
            "text/plain": [
              "<Figure size 432x288 with 1 Axes>"
            ]
          },
          "metadata": {
            "tags": [],
            "needs_background": "light"
          }
        }
      ]
    }
  ]
}